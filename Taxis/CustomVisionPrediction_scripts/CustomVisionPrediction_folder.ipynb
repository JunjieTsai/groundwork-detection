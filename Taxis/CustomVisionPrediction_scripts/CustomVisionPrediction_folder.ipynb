{
 "cells": [
  {
   "cell_type": "markdown",
   "metadata": {},
   "source": [
    "# Detect yellow taxi using Custom Vision API\n"
   ]
  },
  {
   "cell_type": "markdown",
   "metadata": {},
   "source": [
    "## Instruction\n",
    "- This notebook detects objects using Custom Vision API, returns the Custom Vision prediction result in json format, and counts the number of target objects.\n",
    "- For all PNG images in a single folder directory."
   ]
  },
  {
   "cell_type": "markdown",
   "metadata": {},
   "source": [
    "## Parameters:\n",
    "- folder: folder path.\n",
    "- Prediction_Key: refer to customvision.ai/projects - Performance - Prediction URL - Prediction-Key.\n",
    "- Content_Type: default set as 'application/octet-stream' for image file prediction.\n",
    "- projectId: refer to customvision.ai/projects - projectId.\n",
    "- prediction_probability_threshold: Above this prediction probability threshold, we decide to detect the object as a target."
   ]
  },
  {
   "cell_type": "markdown",
   "metadata": {},
   "source": [
    "## Reference: \n",
    "* CustomVision documents: https://southcentralus.dev.cognitive.microsoft.com/docs/services/450e4ba4d72542e889d93fd7b8e960de/operations/5a6264bc40d86a0ef8b2c290\n"
   ]
  },
  {
   "cell_type": "code",
   "execution_count": 1,
   "metadata": {},
   "outputs": [],
   "source": [
    "import pandas as pd\n",
    "import numpy as np\n",
    "import os, json\n",
    "import http.client, urllib.request, urllib.parse, urllib.error, base64"
   ]
  },
  {
   "cell_type": "code",
   "execution_count": 2,
   "metadata": {},
   "outputs": [],
   "source": [
    "# set parameters\n",
    "folder = \"/home/junjiecai/argo_groundwork/ETL_scripts/Images_sample\"\n",
    "Prediction_Key = '9c9942a1bc5e4226a28101bc38e87d1d'\n",
    "Content_Type = 'application/octet-stream'\n",
    "projectId = '51f1e733-1a74-4c08-85e9-19851feda644'\n",
    "prediction_probability_threshold = 0.5"
   ]
  },
  {
   "cell_type": "code",
   "execution_count": 3,
   "metadata": {},
   "outputs": [],
   "source": [
    "#This function detects objects using Custom Vision API, return the Custom Vision prediction result in json format.\n",
    "def Custom_Vision_Prediction(img_file, Prediction_Key, Content_Type, projectId):    \n",
    "    headers = {\n",
    "        # Request headers\n",
    "        'Prediction-Key': Prediction_Key,\n",
    "        'Content-Type': Content_Type,\n",
    "        'Prediction-key': '{subscription key}',\n",
    "    }\n",
    "\n",
    "    params = urllib.parse.urlencode({\n",
    "        # Request parameters\n",
    "        'iterationId': '{}',\n",
    "        'application': '{}',\n",
    "    })\n",
    "\n",
    "    try:\n",
    "        with open(img_file, 'rb') as img:\n",
    "            conn = http.client.HTTPSConnection('southcentralus.api.cognitive.microsoft.com')\n",
    "            conn.request(\"POST\", \"/customvision/v2.0/Prediction/\" + projectId + \"/image?%s\" % params, img, headers)\n",
    "            response = conn.getresponse()\n",
    "            data = response.read()\n",
    "            return json.loads(data)\n",
    "            conn.close()\n",
    "    except Exception as e:\n",
    "        print(\"[Errno {0}] {1}\".format(e.errno, e.strerror))"
   ]
  },
  {
   "cell_type": "code",
   "execution_count": 4,
   "metadata": {},
   "outputs": [],
   "source": [
    "#This function reads the Custom Vision prediction result and counts the number of target objects in a single image.\n",
    "def object_count(data, prediction_probability_threshold):\n",
    "    num = 0\n",
    "    for pred in data['predictions']:    \n",
    "        prob = pred['probability']\n",
    "        if prob > prediction_probability_threshold:\n",
    "            num += 1\n",
    "    return(num)"
   ]
  },
  {
   "cell_type": "code",
   "execution_count": 5,
   "metadata": {},
   "outputs": [],
   "source": [
    "filenames = !ls $folder | grep .png"
   ]
  },
  {
   "cell_type": "code",
   "execution_count": 6,
   "metadata": {},
   "outputs": [],
   "source": [
    "#set dataframe\n",
    "index = [filenames]\n",
    "columns = ['lon', 'lat', 'num']\n",
    "data = np.array([np.zeros(len(filenames))]*3).T\n",
    "df = pd.DataFrame(data, index=index, columns=columns)"
   ]
  },
  {
   "cell_type": "code",
   "execution_count": 7,
   "metadata": {},
   "outputs": [
    {
     "name": "stdout",
     "output_type": "stream",
     "text": [
      "CPU times: user 375 ms, sys: 78.1 ms, total: 453 ms\n",
      "Wall time: 8 s\n"
     ]
    }
   ],
   "source": [
    "%%time\n",
    "for i in filenames:\n",
    "    img_file = folder + '/' + i   \n",
    "    \n",
    "    data = Custom_Vision_Prediction(img_file, Prediction_Key, Content_Type, projectId)\n",
    "    num = object_count(data, prediction_probability_threshold)\n",
    "    \n",
    "    df['lon'][i] = (i.split('_')[1])\n",
    "    df['lat'][i] = (i.split('_')[0])\n",
    "    df['num'][i] = (num)\n",
    "df = df.reset_index().drop(columns=['level_0'])\n",
    "df.to_csv('CustomVisionPrediction.csv')"
   ]
  },
  {
   "cell_type": "code",
   "execution_count": 8,
   "metadata": {},
   "outputs": [
    {
     "name": "stdout",
     "output_type": "stream",
     "text": [
      "(10, 3)\n"
     ]
    },
    {
     "data": {
      "text/html": [
       "<div>\n",
       "<style scoped>\n",
       "    .dataframe tbody tr th:only-of-type {\n",
       "        vertical-align: middle;\n",
       "    }\n",
       "\n",
       "    .dataframe tbody tr th {\n",
       "        vertical-align: top;\n",
       "    }\n",
       "\n",
       "    .dataframe thead th {\n",
       "        text-align: right;\n",
       "    }\n",
       "</style>\n",
       "<table border=\"1\" class=\"dataframe\">\n",
       "  <thead>\n",
       "    <tr style=\"text-align: right;\">\n",
       "      <th></th>\n",
       "      <th>lon</th>\n",
       "      <th>lat</th>\n",
       "      <th>num</th>\n",
       "    </tr>\n",
       "  </thead>\n",
       "  <tbody>\n",
       "    <tr>\n",
       "      <th>0</th>\n",
       "      <td>-74.011550</td>\n",
       "      <td>40.704951</td>\n",
       "      <td>0.0</td>\n",
       "    </tr>\n",
       "    <tr>\n",
       "      <th>1</th>\n",
       "      <td>-74.011550</td>\n",
       "      <td>40.704951</td>\n",
       "      <td>0.0</td>\n",
       "    </tr>\n",
       "    <tr>\n",
       "      <th>2</th>\n",
       "      <td>-74.011550</td>\n",
       "      <td>40.704951</td>\n",
       "      <td>0.0</td>\n",
       "    </tr>\n",
       "    <tr>\n",
       "      <th>3</th>\n",
       "      <td>-74.014749</td>\n",
       "      <td>40.706344</td>\n",
       "      <td>0.0</td>\n",
       "    </tr>\n",
       "    <tr>\n",
       "      <th>4</th>\n",
       "      <td>-74.014749</td>\n",
       "      <td>40.706344</td>\n",
       "      <td>0.0</td>\n",
       "    </tr>\n",
       "    <tr>\n",
       "      <th>5</th>\n",
       "      <td>-73.736158</td>\n",
       "      <td>40.718218</td>\n",
       "      <td>1.0</td>\n",
       "    </tr>\n",
       "    <tr>\n",
       "      <th>6</th>\n",
       "      <td>-73.996572</td>\n",
       "      <td>40.729552</td>\n",
       "      <td>1.0</td>\n",
       "    </tr>\n",
       "    <tr>\n",
       "      <th>7</th>\n",
       "      <td>-73.923149</td>\n",
       "      <td>40.735353</td>\n",
       "      <td>1.0</td>\n",
       "    </tr>\n",
       "    <tr>\n",
       "      <th>8</th>\n",
       "      <td>-73.968024</td>\n",
       "      <td>40.751390</td>\n",
       "      <td>1.0</td>\n",
       "    </tr>\n",
       "    <tr>\n",
       "      <th>9</th>\n",
       "      <td>-73.968024</td>\n",
       "      <td>40.751390</td>\n",
       "      <td>1.0</td>\n",
       "    </tr>\n",
       "  </tbody>\n",
       "</table>\n",
       "</div>"
      ],
      "text/plain": [
       "         lon        lat  num\n",
       "0 -74.011550  40.704951  0.0\n",
       "1 -74.011550  40.704951  0.0\n",
       "2 -74.011550  40.704951  0.0\n",
       "3 -74.014749  40.706344  0.0\n",
       "4 -74.014749  40.706344  0.0\n",
       "5 -73.736158  40.718218  1.0\n",
       "6 -73.996572  40.729552  1.0\n",
       "7 -73.923149  40.735353  1.0\n",
       "8 -73.968024  40.751390  1.0\n",
       "9 -73.968024  40.751390  1.0"
      ]
     },
     "execution_count": 8,
     "metadata": {},
     "output_type": "execute_result"
    }
   ],
   "source": [
    "print(df.shape)\n",
    "df.head()"
   ]
  }
 ],
 "metadata": {
  "kernelspec": {
   "display_name": "Python 3",
   "language": "python",
   "name": "python3"
  },
  "language_info": {
   "codemirror_mode": {
    "name": "ipython",
    "version": 3
   },
   "file_extension": ".py",
   "mimetype": "text/x-python",
   "name": "python",
   "nbconvert_exporter": "python",
   "pygments_lexer": "ipython3",
   "version": "3.7.1"
  }
 },
 "nbformat": 4,
 "nbformat_minor": 2
}
