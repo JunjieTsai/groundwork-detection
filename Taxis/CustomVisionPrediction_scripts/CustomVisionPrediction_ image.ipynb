{
 "cells": [
  {
   "cell_type": "markdown",
   "metadata": {},
   "source": [
    "# Detect yellow taxi using Custom Vision API\n"
   ]
  },
  {
   "cell_type": "markdown",
   "metadata": {},
   "source": [
    "## Instruction\n",
    "- This notebook detects objects using Custom Vision API, returns the Custom Vision prediction result in json format."
   ]
  },
  {
   "cell_type": "markdown",
   "metadata": {},
   "source": [
    "## Request 4 parameters:\n",
    "* img_file: Image file directory\n",
    "- Prediction_Key: refer to customvision.ai/projects - Performance - Prediction URL - Prediction-Key.\n",
    "- Content_Type: default set as 'application/octet-stream' for image file prediction.\n",
    "- projectId: refer to customvision.ai/projects - projectId.\n"
   ]
  },
  {
   "cell_type": "markdown",
   "metadata": {},
   "source": [
    "## Reference: \n",
    "* CustomVision documents: https://southcentralus.dev.cognitive.microsoft.com/docs/services/450e4ba4d72542e889d93fd7b8e960de/operations/5a6264bc40d86a0ef8b2c290\n"
   ]
  },
  {
   "cell_type": "code",
   "execution_count": 1,
   "metadata": {},
   "outputs": [],
   "source": [
    "import os, json\n",
    "import http.client, urllib.request, urllib.parse, urllib.error, base64"
   ]
  },
  {
   "cell_type": "code",
   "execution_count": 2,
   "metadata": {},
   "outputs": [],
   "source": [
    "# set parameters\n",
    "img_file = \"/home/junjiecai/argo_groundwork/ETL_scripts/Images/40.736178520505_-74.00352731985085_360.png\"\n",
    "Prediction_Key = '9c9942a1bc5e4226a28101bc38e87d1d'\n",
    "Content_Type = 'application/octet-stream'\n",
    "projectId = '51f1e733-1a74-4c08-85e9-19851feda644'"
   ]
  },
  {
   "cell_type": "code",
   "execution_count": 3,
   "metadata": {},
   "outputs": [],
   "source": [
    "#This function detects objects using Custom Vision API, return the Custom Vision prediction result in json format.\n",
    "def Custom_Vision_Prediction(img_file, Prediction_Key, Content_Type, projectId):\n",
    "    headers = {\n",
    "        # Request headers\n",
    "        'Prediction-Key': Prediction_Key,\n",
    "        'Content-Type': Content_Type,\n",
    "        'Prediction-key': '{subscription key}',\n",
    "    }\n",
    "\n",
    "    params = urllib.parse.urlencode({\n",
    "        # Request parameters\n",
    "        'iterationId': '{}',\n",
    "        'application': '{}',\n",
    "    })\n",
    "\n",
    "    try:\n",
    "        with open(img_file, 'rb') as img:\n",
    "            conn = http.client.HTTPSConnection('southcentralus.api.cognitive.microsoft.com')\n",
    "            conn.request(\"POST\", \"/customvision/v2.0/Prediction/\" + projectId + \"/image?%s\" % params, img, headers)\n",
    "            response = conn.getresponse()\n",
    "            data = response.read()\n",
    "            return json.loads(data)\n",
    "            conn.close()\n",
    "    except Exception as e:\n",
    "        print(\"[Errno {0}] {1}\".format(e.errno, e.strerror))"
   ]
  },
  {
   "cell_type": "code",
   "execution_count": 4,
   "metadata": {},
   "outputs": [
    {
     "data": {
      "text/plain": [
       "{'id': '8025261d-0c7c-4f57-905a-9d8dcbdfc7ef',\n",
       " 'project': '51f1e733-1a74-4c08-85e9-19851feda644',\n",
       " 'iteration': '0d1e406d-7408-475c-b149-0795da25b682',\n",
       " 'created': '2019-01-24T17:51:28.2731341Z',\n",
       " 'predictions': [{'probability': 0.784951,\n",
       "   'tagId': '08f64316-031e-4402-801d-af4993a63331',\n",
       "   'tagName': 'YellowTaxi',\n",
       "   'boundingBox': {'left': 0.445408016,\n",
       "    'top': 0.6289322,\n",
       "    'width': 0.245103568,\n",
       "    'height': 0.186881185}},\n",
       "  {'probability': 0.0169557184,\n",
       "   'tagId': '08f64316-031e-4402-801d-af4993a63331',\n",
       "   'tagName': 'YellowTaxi',\n",
       "   'boundingBox': {'left': 0.244582057,\n",
       "    'top': 0.6767458,\n",
       "    'width': 0.696773648,\n",
       "    'height': 0.319325984}}]}"
      ]
     },
     "metadata": {},
     "output_type": "display_data"
    }
   ],
   "source": [
    "data = Custom_Vision_Prediction(img_file, Prediction_Key, Content_Type, projectId)\n",
    "display(data)"
   ]
  },
  {
   "cell_type": "code",
   "execution_count": 5,
   "metadata": {},
   "outputs": [
    {
     "name": "stdout",
     "output_type": "stream",
     "text": [
      "YellowTaxi 0.784951\n",
      "YellowTaxi 0.0169557184\n"
     ]
    }
   ],
   "source": [
    "for pred in data['predictions']:\n",
    "    tag, prob = pred['tagName'], pred['probability']\n",
    "    print(tag, prob)"
   ]
  }
 ],
 "metadata": {
  "kernelspec": {
   "display_name": "Python 3",
   "language": "python",
   "name": "python3"
  },
  "language_info": {
   "codemirror_mode": {
    "name": "ipython",
    "version": 3
   },
   "file_extension": ".py",
   "mimetype": "text/x-python",
   "name": "python",
   "nbconvert_exporter": "python",
   "pygments_lexer": "ipython3",
   "version": "3.7.1"
  }
 },
 "nbformat": 4,
 "nbformat_minor": 2
}
